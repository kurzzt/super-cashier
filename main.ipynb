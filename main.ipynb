{
 "cells": [
  {
   "cell_type": "code",
   "execution_count": 1,
   "metadata": {},
   "outputs": [],
   "source": [
    "import script as s"
   ]
  },
  {
   "attachments": {},
   "cell_type": "markdown",
   "metadata": {},
   "source": [
    "## Test Case 1:\n",
    "- Add 2 items"
   ]
  },
  {
   "cell_type": "code",
   "execution_count": 2,
   "metadata": {},
   "outputs": [
    {
     "name": "stdout",
     "output_type": "stream",
     "text": [
      "Item purchased : {'Ayam goreng': [1, 20000]}\n",
      "Item purchased : {'Ayam goreng': [1, 20000], 'Pasta Gigi': [3, 15000]}\n"
     ]
    }
   ],
   "source": [
    "trnsct_1 = s.Transaction()\n",
    "trnsct_1.add_item(\"Ayam goreng\", 1, 20000)\n",
    "trnsct_1.add_item(\"Pasta Gigi\", 3, 15000)"
   ]
  },
  {
   "attachments": {},
   "cell_type": "markdown",
   "metadata": {},
   "source": [
    "## Test Case 2 :\n",
    "- Delete item"
   ]
  },
  {
   "cell_type": "code",
   "execution_count": 3,
   "metadata": {},
   "outputs": [
    {
     "name": "stdout",
     "output_type": "stream",
     "text": [
      "Item deleted, Item purchased is {'Ayam goreng': [1, 20000]}\n"
     ]
    }
   ],
   "source": [
    "trnsct_1.delete_item(\"Pasta Gigi\")"
   ]
  },
  {
   "attachments": {},
   "cell_type": "markdown",
   "metadata": {},
   "source": [
    "## Test Case 3 :\n",
    "- Reset Transaction"
   ]
  },
  {
   "cell_type": "code",
   "execution_count": 4,
   "metadata": {},
   "outputs": [
    {
     "name": "stdout",
     "output_type": "stream",
     "text": [
      "All items have been removed\n"
     ]
    }
   ],
   "source": [
    "trnsct_1.reset_transaction()"
   ]
  },
  {
   "attachments": {},
   "cell_type": "markdown",
   "metadata": {},
   "source": [
    "## Test Case 4:\n",
    "- Add 4 items\n",
    "- Check the total price of transaction"
   ]
  },
  {
   "cell_type": "code",
   "execution_count": 5,
   "metadata": {},
   "outputs": [
    {
     "name": "stdout",
     "output_type": "stream",
     "text": [
      "Item purchased : {'Ayam Goreng': [2, 200000]}\n",
      "Item purchased : {'Ayam Goreng': [2, 200000], 'Pasta Gigi': [3, 15000]}\n",
      "Item purchased : {'Ayam Goreng': [2, 200000], 'Pasta Gigi': [3, 15000], 'Mainan Mobil': [1, 200000]}\n",
      "Item purchased : {'Ayam Goreng': [2, 200000], 'Pasta Gigi': [3, 15000], 'Mainan Mobil': [1, 200000], 'Mi Instan': [5, 3000]}\n",
      "Total price : 594000.0\n"
     ]
    }
   ],
   "source": [
    "trnsct_1.add_item(\"Ayam Goreng\", 2, 200000)\n",
    "trnsct_1.add_item(\"Pasta Gigi\", 3, 15000)\n",
    "trnsct_1.add_item(\"Mainan Mobil\", 1, 200000)\n",
    "trnsct_1.add_item(\"Mi Instan\", 5, 3000)\n",
    "trnsct_1.total_price()"
   ]
  },
  {
   "attachments": {},
   "cell_type": "markdown",
   "metadata": {},
   "source": [
    "## Test Case 5 :\n",
    "- Add 5 items\n",
    "- Update item name\n",
    "- Update item quantity\n",
    "- Update item price\n",
    "- Delete an item\n",
    "- Check the order\n",
    "- Check the total price of transaction"
   ]
  },
  {
   "cell_type": "code",
   "execution_count": 6,
   "metadata": {},
   "outputs": [
    {
     "name": "stdout",
     "output_type": "stream",
     "text": [
      "Item purchased : {'Nasi goreng': [1, 10000]}\n",
      "Item purchased : {'Nasi goreng': [1, 10000], 'Sate Kelinci': [3, 15000]}\n",
      "Item purchased : {'Nasi goreng': [1, 10000], 'Sate Kelinci': [3, 15000], 'Sendok': [7, 3000]}\n",
      "Item purchased : {'Nasi goreng': [1, 10000], 'Sate Kelinci': [3, 15000], 'Sendok': [7, 3000], 'Permen Miksu': [1, 500]}\n",
      "Item purchased : {'Nasi goreng': [1, 10000], 'Sate Kelinci': [3, 15000], 'Sendok': [7, 3000], 'Permen Miksu': [1, 500], 'Miksu': [1, 8000]}\n",
      "\n",
      "\n",
      "Updated transaction list, Item purchased is {'Sate Kelinci': [3, 15000], 'Sendok': [7, 3000], 'Permen Miksu': [1, 500], 'Miksu': [1, 8000], 'Mie Goyeng': [1, 10000]}\n",
      "Updated transaction list, Item purchased is {'Sate Kelinci': [3, 17000], 'Sendok': [7, 3000], 'Permen Miksu': [1, 500], 'Miksu': [1, 8000], 'Mie Goyeng': [1, 10000]}\n",
      "Updated transaction list, Item purchased is {'Sate Kelinci': [3, 17000], 'Sendok': [2, 3000], 'Permen Miksu': [1, 500], 'Miksu': [1, 8000], 'Mie Goyeng': [1, 10000]}\n",
      "Item deleted, Item purchased is {'Sate Kelinci': [3, 17000], 'Sendok': [2, 3000], 'Miksu': [1, 8000], 'Mie Goyeng': [1, 10000]}\n",
      "\n",
      "\n",
      "| Item         |   Quantity |   Price |   Total Price |\n",
      "|--------------|------------|---------|---------------|\n",
      "| Sate Kelinci |          3 |   17000 |         51000 |\n",
      "| Sendok       |          2 |    3000 |          6000 |\n",
      "| Miksu        |          1 |    8000 |          8000 |\n",
      "| Mie Goyeng   |          1 |   10000 |         10000 |\n",
      "Order is correct\n",
      "Total price : 75000\n"
     ]
    }
   ],
   "source": [
    "trnsct_123 = s.Transaction()\n",
    "trnsct_123.add_item(\"Nasi goreng\", 1, 10000)\n",
    "trnsct_123.add_item(\"Sate Kelinci\", 3, 15000)\n",
    "trnsct_123.add_item(\"Sendok\", 7, 3000)\n",
    "trnsct_123.add_item(\"Permen Miksu\", 1, 500)\n",
    "trnsct_123.add_item(\"Miksu\", 1, 8000)\n",
    "\n",
    "print('\\n')\n",
    "trnsct_123.update_item_name('Nasi goreng', 'Mie Goyeng')\n",
    "trnsct_123.update_item_price('Sate Kelinci', 17000)\n",
    "trnsct_123.update_item_qty('Sendok', 2)\n",
    "trnsct_123.delete_item('Permen Miksu')\n",
    "\n",
    "print('\\n')\n",
    "trnsct_123.check_order()\n",
    "trnsct_123.total_price()"
   ]
  },
  {
   "attachments": {},
   "cell_type": "markdown",
   "metadata": {},
   "source": [
    "## Test case 6 :\n",
    "- Add 3 items\n",
    "- Reset transaction\n",
    "- Check order\n",
    "- Check the total price of transaction"
   ]
  },
  {
   "cell_type": "code",
   "execution_count": 7,
   "metadata": {},
   "outputs": [
    {
     "name": "stdout",
     "output_type": "stream",
     "text": [
      "Item purchased : {'Nasi goreng': [1, 10000]}\n",
      "Item purchased : {'Nasi goreng': [1, 10000], 'Sate Kelinci': [3, 15000]}\n",
      "Item purchased : {'Nasi goreng': [1, 10000], 'Sate Kelinci': [3, 15000], 'Sendok': [7, 3000]}\n",
      "All items have been removed\n",
      "| Item   | Quantity   | Price   | Total Price   |\n",
      "|--------|------------|---------|---------------|\n",
      "Order is correct\n",
      "Total price : 0.0\n"
     ]
    }
   ],
   "source": [
    "trnsct_333 = s.Transaction()\n",
    "trnsct_333.add_item(\"Nasi goreng\", 1, 10000)\n",
    "trnsct_333.add_item(\"Sate Kelinci\", 3, 15000)\n",
    "trnsct_333.add_item(\"Sendok\", 7, 3000)\n",
    "\n",
    "trnsct_333.reset_transaction()\n",
    "trnsct_333.check_order()\n",
    "trnsct_333.total_price()"
   ]
  },
  {
   "attachments": {},
   "cell_type": "markdown",
   "metadata": {},
   "source": [
    "## Test case 7 :\n",
    "- Add 3 items with 0 value\n",
    "- Check order\n",
    "- Check the total Price of transaction"
   ]
  },
  {
   "cell_type": "code",
   "execution_count": 8,
   "metadata": {},
   "outputs": [
    {
     "name": "stdout",
     "output_type": "stream",
     "text": [
      "Item purchased : {'Nasi goreng': [1, 10000]}\n",
      "Item purchased : {'Nasi goreng': [1, 10000], 'Sate Kelinci': [3, 15000]}\n",
      "Item purchased : {'Nasi goreng': [1, 10000], 'Sate Kelinci': [3, 15000], 'Sendok': [7, 0]}\n",
      "\n",
      "\n",
      "| Item         |   Quantity |   Price |   Total Price |\n",
      "|--------------|------------|---------|---------------|\n",
      "| Nasi goreng  |          1 |   10000 |         10000 |\n",
      "| Sate Kelinci |          3 |   15000 |         45000 |\n",
      "| Sendok       |          7 |       0 |             0 |\n",
      "There is a data input error\n",
      "Total price : 55000\n"
     ]
    }
   ],
   "source": [
    "trnsct_124 = s.Transaction()\n",
    "trnsct_124.add_item(\"Nasi goreng\", 1, 10000)\n",
    "trnsct_124.add_item(\"Sate Kelinci\", 3, 15000)\n",
    "trnsct_124.add_item(\"Sendok\", 7, 0000)\n",
    "\n",
    "print('\\n')\n",
    "trnsct_124.check_order()\n",
    "trnsct_124.total_price()"
   ]
  }
 ],
 "metadata": {
  "kernelspec": {
   "display_name": "Python 3",
   "language": "python",
   "name": "python3"
  },
  "language_info": {
   "codemirror_mode": {
    "name": "ipython",
    "version": 3
   },
   "file_extension": ".py",
   "mimetype": "text/x-python",
   "name": "python",
   "nbconvert_exporter": "python",
   "pygments_lexer": "ipython3",
   "version": "3.10.0"
  },
  "orig_nbformat": 4,
  "vscode": {
   "interpreter": {
    "hash": "8c3d4d9970fc5c09c50d9318a9c7fbf4d0159e4b28833276f5678ee22bded273"
   }
  }
 },
 "nbformat": 4,
 "nbformat_minor": 2
}
